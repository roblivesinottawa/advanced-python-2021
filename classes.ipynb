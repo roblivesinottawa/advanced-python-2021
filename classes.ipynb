{
 "cells": [
  {
   "cell_type": "code",
   "execution_count": 1,
   "metadata": {},
   "outputs": [],
   "source": [
    "# Use special methods to compare objects to each other\n",
    "\n",
    "\n",
    "class Employee():\n",
    "    def __init__(self, fname, lname, level, yrsService):\n",
    "        self.fname = fname\n",
    "        self.lname = lname\n",
    "        self.level = level\n",
    "        self.seniority = yrsService\n",
    "\n",
    "    # implement comparison functions by emp level\n",
    "    def __ge__(self, other):\n",
    "        if self.level == other.level:\n",
    "            return self.seniority >= other.seniority\n",
    "        return self.level >= other.level\n",
    "\n",
    "    def __gt__(self, other):\n",
    "        if self.level == other.level:\n",
    "            return self.seniority > other.seniority\n",
    "        return self.level > other.level\n",
    "\n",
    "    def __lt__(self, other):\n",
    "        if self.level == other.level:\n",
    "            return self.seniority < other.seniority\n",
    "        return self.level < other.level\n",
    "\n",
    "    def __le__(self, other):\n",
    "        if self.level == other.level:\n",
    "            return self.seniority <= other.seniority\n",
    "        return self.level <= other.level\n",
    "\n",
    "    def __eq__(self, other):\n",
    "        return self.level == other.level"
   ]
  },
  {
   "cell_type": "code",
   "execution_count": 2,
   "metadata": {},
   "outputs": [],
   "source": [
    "def main():\n",
    "    # define some employees\n",
    "    dept = []\n",
    "    dept.append(Employee(\"Tim\", \"Sims\", 5, 9))\n",
    "    dept.append(Employee(\"John\", \"Doe\", 4, 12))\n",
    "    dept.append(Employee(\"Jane\", \"Smith\", 6, 6))\n",
    "    dept.append(Employee(\"Rebecca\", \"Robinson\", 5, 13))\n",
    "    dept.append(Employee(\"Tyler\", \"Durden\", 5, 12))\n",
    "\n",
    "    # Who's more senior?\n",
    "    print(bool(dept[0] > dept[2]))\n",
    "    print(bool(dept[4] < dept[3]))\n",
    "\n",
    "    # sort the items\n",
    "    emps = sorted(dept)\n",
    "    for emp in emps:\n",
    "        print(emp.lname)"
   ]
  },
  {
   "cell_type": "code",
   "execution_count": 3,
   "metadata": {},
   "outputs": [
    {
     "name": "stdout",
     "output_type": "stream",
     "text": [
      "False\n",
      "True\n",
      "Doe\n",
      "Sims\n",
      "Durden\n",
      "Robinson\n",
      "Smith\n"
     ]
    }
   ],
   "source": [
    "if __name__ == \"__main__\":\n",
    "    main()"
   ]
  },
  {
   "cell_type": "code",
   "execution_count": null,
   "metadata": {},
   "outputs": [],
   "source": []
  }
 ],
 "metadata": {
  "kernelspec": {
   "display_name": "Python 3.8.9 64-bit",
   "language": "python",
   "name": "python3"
  },
  "language_info": {
   "codemirror_mode": {
    "name": "ipython",
    "version": 3
   },
   "file_extension": ".py",
   "mimetype": "text/x-python",
   "name": "python",
   "nbconvert_exporter": "python",
   "pygments_lexer": "ipython3",
   "version": "3.8.9"
  },
  "orig_nbformat": 4,
  "vscode": {
   "interpreter": {
    "hash": "31f2aee4e71d21fbe5cf8b01ff0e069b9275f58929596ceb00d14d90e3e16cd6"
   }
  }
 },
 "nbformat": 4,
 "nbformat_minor": 2
}
